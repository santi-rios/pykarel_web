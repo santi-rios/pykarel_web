{
 "cells": [
  {
   "cell_type": "code",
   "execution_count": 1,
   "id": "bad17bfd",
   "metadata": {},
   "outputs": [],
   "source": [
    "# Inicializar a Karel en el mundo predeterminado\n",
    "from pykarel_web import Karel"
   ]
  },
  {
   "cell_type": "code",
   "execution_count": null,
   "id": "cad79812",
   "metadata": {},
   "outputs": [],
   "source": [
    "karel = Karel(mundo=\"laberinto\")\n",
    "karel.juntar_coso()\n",
    "karel.girar_izquierda()\n",
    "karel.avanzar()\n",
    "karel.colocar_cosos_en_posicion(x=0, y=1, cantidad=1) \n",
    "karel.ejecutar_acciones()"
   ]
  },
  {
   "cell_type": "code",
   "execution_count": 2,
   "id": "55951253",
   "metadata": {},
   "outputs": [
    {
     "ename": "KarelError",
     "evalue": "Karel no puede iniciar en un obstáculo",
     "output_type": "error",
     "traceback": [
      "\u001b[31m---------------------------------------------------------------------------\u001b[39m",
      "\u001b[31mKarelError\u001b[39m                                Traceback (most recent call last)",
      "\u001b[36mCell\u001b[39m\u001b[36m \u001b[39m\u001b[32mIn[2]\u001b[39m\u001b[32m, line 1\u001b[39m\n\u001b[32m----> \u001b[39m\u001b[32m1\u001b[39m karel = \u001b[43mKarel\u001b[49m\u001b[43m(\u001b[49m\u001b[43mmundo\u001b[49m\u001b[43m=\u001b[49m\u001b[33;43m\"\u001b[39;49m\u001b[33;43mrecta\u001b[39;49m\u001b[33;43m\"\u001b[39;49m\u001b[43m,\u001b[49m\u001b[43m \u001b[49m\u001b[43mx_inicial\u001b[49m\u001b[43m=\u001b[49m\u001b[32;43m1\u001b[39;49m\u001b[43m,\u001b[49m\u001b[43m \u001b[49m\u001b[43my_inicial\u001b[49m\u001b[43m=\u001b[49m\u001b[32;43m1\u001b[39;49m\u001b[43m)\u001b[49m\n\u001b[32m      2\u001b[39m karel.ejecutar_acciones()\n",
      "\u001b[36mFile \u001b[39m\u001b[32mc:\\Users\\santi\\OneDrive\\Documents\\pykarel_web-1\\pykarel_web\\__init__.py:35\u001b[39m, in \u001b[36mKarel.__init__\u001b[39m\u001b[34m(self, mundo, x_inicial, y_inicial, direccion_inicial, cosos_iniciales)\u001b[39m\n\u001b[32m     33\u001b[39m \u001b[38;5;28;01mdef\u001b[39;00m\u001b[38;5;250m \u001b[39m\u001b[34m__init__\u001b[39m(\u001b[38;5;28mself\u001b[39m, mundo=\u001b[33m\"\u001b[39m\u001b[33mdefault\u001b[39m\u001b[33m\"\u001b[39m, x_inicial=\u001b[32m0\u001b[39m, y_inicial=\u001b[32m0\u001b[39m, direccion_inicial=\u001b[32m0\u001b[39m, cosos_iniciales=\u001b[32m0\u001b[39m):\n\u001b[32m     34\u001b[39m     \u001b[38;5;28mself\u001b[39m.mundo = \u001b[38;5;28mself\u001b[39m._crear_mundo(mundo)\n\u001b[32m---> \u001b[39m\u001b[32m35\u001b[39m     \u001b[38;5;28;43mself\u001b[39;49m\u001b[43m.\u001b[49m\u001b[43m_validar_posicion_inicial\u001b[49m\u001b[43m(\u001b[49m\u001b[43mx_inicial\u001b[49m\u001b[43m,\u001b[49m\u001b[43m \u001b[49m\u001b[43my_inicial\u001b[49m\u001b[43m)\u001b[49m\n\u001b[32m     37\u001b[39m     \u001b[38;5;28mself\u001b[39m.x = x_inicial\n\u001b[32m     38\u001b[39m     \u001b[38;5;28mself\u001b[39m.y = y_inicial\n",
      "\u001b[36mFile \u001b[39m\u001b[32mc:\\Users\\santi\\OneDrive\\Documents\\pykarel_web-1\\pykarel_web\\__init__.py:51\u001b[39m, in \u001b[36mKarel._validar_posicion_inicial\u001b[39m\u001b[34m(self, x, y)\u001b[39m\n\u001b[32m     49\u001b[39m     \u001b[38;5;28;01mraise\u001b[39;00m KarelError(\u001b[33m\"\u001b[39m\u001b[33mPosición inicial fuera del mundo\u001b[39m\u001b[33m\"\u001b[39m)\n\u001b[32m     50\u001b[39m \u001b[38;5;28;01mif\u001b[39;00m \u001b[38;5;28mself\u001b[39m.mundo[y][x] == \u001b[32m1\u001b[39m:\n\u001b[32m---> \u001b[39m\u001b[32m51\u001b[39m     \u001b[38;5;28;01mraise\u001b[39;00m KarelError(\u001b[33m\"\u001b[39m\u001b[33mKarel no puede iniciar en un obstáculo\u001b[39m\u001b[33m\"\u001b[39m)\n",
      "\u001b[31mKarelError\u001b[39m: Karel no puede iniciar en un obstáculo"
     ]
    }
   ],
   "source": [
    "karel = Karel(mundo=\"recta\", x_inicial=1, y_inicial=1)\n",
    "karel.ejecutar_acciones()"
   ]
  }
 ],
 "metadata": {
  "kernelspec": {
   "display_name": "Python 3",
   "language": "python",
   "name": "python3"
  },
  "language_info": {
   "codemirror_mode": {
    "name": "ipython",
    "version": 3
   },
   "file_extension": ".py",
   "mimetype": "text/x-python",
   "name": "python",
   "nbconvert_exporter": "python",
   "pygments_lexer": "ipython3",
   "version": "3.13.2"
  }
 },
 "nbformat": 4,
 "nbformat_minor": 5
}
